{
  "cells": [
    {
      "cell_type": "markdown",
      "metadata": {
        "id": "view-in-github",
        "colab_type": "text"
      },
      "source": [
        "<a href=\"https://colab.research.google.com/github/Eddycrack864/KaraFan/blob/master/KaraFan_Improved_Version.ipynb\" target=\"_parent\"><img src=\"https://colab.research.google.com/assets/colab-badge.svg\" alt=\"Open In Colab\"/></a>"
      ]
    },
    {
      "cell_type": "markdown",
      "metadata": {
        "id": "Ne7Cqu0cs6rp"
      },
      "source": [
        "# 🎵 KaraFan\n",
        "\n",
        "The **BEST music separation** software with help of A.I. ... **to my ears** ! 👂👂\n",
        "\n",
        "#### 📝 The Story of this project, Explanations, and Thanks are on my  &nbsp;[![GitHub](https://img.shields.io/badge/GitHub-100000?style=for-the-badge&logo=github&labelColor=333&logoColor=white&color=ff0080)](https://github.com/Captain-FLAM/KaraFan)  &nbsp;page.\n",
        "\n",
        "**R.T.F.RM** --> Read [The Fucking READ ME](https://github.com/Captain-FLAM/KaraFan#readme) - (GitHub home page), it's worth it ! 😁  \n",
        "**R.T.F.W** &nbsp;&nbsp;--> Read [The Fucking WIKI](https://github.com/Captain-FLAM/KaraFan/wiki) (**updated continuously**)\n",
        "\n",
        "### 💲 And if you like this software :\n",
        "\n",
        "[![ko-fi](https://github.com/Captain-FLAM/KaraFan/blob/master/images/ko-fi.png?raw=1)](https://ko-fi.com/captain_flam)\n",
        "\n",
        "### 📜 LICENSE - &copy; Captain FLAM & Jarredou - 2023 - M.I.T license\n",
        "\n",
        "That means if you want to use any part of our code in your projects, **YOU HAVE TO let the copyrights in place !!**  \n",
        "Copyright is not a shame, it's a way to say thanks to the authors for their work !\n",
        "\n",
        "### ⏹️ If you want to stop the processing **use : <kbd>CTRL</kbd> + <kbd>C</kbd>**\n",
        "\n",
        "## **IMPROVED BY [AI HUB](https://discord.gg/aihub) STAFF MEMBERS. [Eddy](http://discord.com/users/274566299349155851.) and [Leo_Frixi](http://discord.com/users/628603171735994379.)**"
      ]
    },
    {
      "cell_type": "code",
      "execution_count": null,
      "metadata": {
        "id": "eq_TF8D5sEgU",
        "cellView": "form"
      },
      "outputs": [],
      "source": [
        "#@title SETUP\n",
        "#Code to fix this by GDR\n",
        "#!sudo apt update\n",
        "#!yes | sudo DEBIAN_FRONTEND=noninteractive apt-get -yq install cuda-11-8\n",
        "#!find / -name '*libcublasLt.so*' #Just to see the versions, you will have 11.8 and 12.2\n",
        "\n",
        "import os, sys, subprocess\n",
        "\n",
        "# !!!!  If you are a developer  !!!!\n",
        "#\n",
        "# If you want to work on KaraFan on your PC or on your Google Drive (with Google Colab),\n",
        "# this option Deactivate the \"Automagic Updates\", and so don't overwrite your modifications.\n",
        "# Moreover, on Colab, it will install the code in \"/KaraFan\" on your Google Drive.\n",
        "\n",
        "I_AM_A_DEVELOPER = False\n",
        "\n",
        "# If you still have GPU memory errors, you can try to\n",
        "# uncomment the following line, but I'm not sure it will work...\n",
        "# Anyway, following the Nvidia documentation,\n",
        "# they recommend to set this environment variable to 512 MB :\n",
        "\n",
        "# os.environ['PYTORCH_CUDA_ALLOC_CONF'] = \"max_split_size_mb:512\"\n",
        "\n",
        "#****************************************************************\n",
        "\n",
        "Repo_url = \"https://github.com/Eddycrack864/KaraFan\"\n",
        "\n",
        "Gdrive = \"\"; Project = \"\"; User = \"\"; isColab = False\n",
        "try:\n",
        "\t# Are we on Google Colab ?\n",
        "\tfrom google.colab import drive\n",
        "\tisColab = True\n",
        "\tdrive.mount(\"/content/Gdrive\", timeout_ms=60000)  # 60 seconds\n",
        "\tGdrive  = \"/content/Gdrive/MyDrive\"\n",
        "\tProject = os.path.join(Gdrive if I_AM_A_DEVELOPER else \"/content\", \"KaraFan\")\n",
        "except:\n",
        "\tif not isColab:\n",
        "\t\t# We are on PC\n",
        "\t\tProject = os.getcwd()  # Get the current path\n",
        "\t\tGdrive  = os.path.dirname(Project)  # Get parent directory\n",
        "\n",
        "if Gdrive != \"\":\n",
        "\tif not os.path.exists(Project):\n",
        "\t\tprint('Cloning \"KaraFan\" Repository...')\n",
        "\t\tos.chdir(os.path.dirname(Project))\n",
        "\t\ttry:\n",
        "\t\t\tsubprocess.run([\"git\", \"clone\", f\"{Repo_url}.git\", \"KaraFan\"], text=True, capture_output=True, check=True)\n",
        "\t\texcept subprocess.CalledProcessError as e:\n",
        "\t\t\tprint(\"Error during Cloning :\\n\" + e.stderr + \"\\n\" + e.stdout + \"\\n\")\n",
        "\t\t\texit(1)\n",
        "\n",
        "\tif os.path.exists(Project):\n",
        "\t\t# Mandatory to import App modules\n",
        "\t\tsys.path.insert(0, Project)\n",
        "\t\timport App.setup\n",
        "\n",
        "\t\tparams = {\"Gdrive\": Gdrive, \"Project\": Project, \"isColab\": isColab, \"I_AM_A_DEVELOPER\": I_AM_A_DEVELOPER}\n",
        "\telse:\n",
        "\t\tprint('\"KaraFan\" is NOT installed !');  exit(1)"
      ]
    },
    {
      "cell_type": "code",
      "execution_count": null,
      "metadata": {
        "id": "hy0KkQBSC_Nl",
        "cellView": "form"
      },
      "outputs": [],
      "source": [
        "#@title 😎 This is it !\n",
        "from IPython.display import clear_output\n",
        "import base64\n",
        "a = \"TDBka2NtbDJaUzlOZVVSeWFYWmxMMHRoY21GR1lXNWZkWE5sY2k5TmIyUmxiSE12VFVSWU1qTkRMVGhMUmtaVUxVbHVjM1JXYjJOZlNGRmZNaTVqYTNCMA==\"\n",
        "b = \"YUhSMGNITTZMeTlvZFdkbmFXNW5abUZqWlM1amJ5OUZaR1I1WTNKaFkyczROalF2VlZaU05TMU5SRmd0VGtWVUxWWkpVQzFOVDBSRlRGTXZjbVZ6YjJ4MlpTOXRZV2x1TDAxRVdESXpReTA0UzBaR1ZDMUpibk4wVm05algwaFJYekl1WTJ0d2RBPT0=\"\n",
        "c = base64.b64decode(base64.b64decode(a)).decode()\n",
        "d = base64.b64decode(base64.b64decode(b)).decode()\n",
        "if Gdrive != \"\":\n",
        "  App.setup.Install(params)\n",
        "  !python -m pip install ort-nightly-gpu --index-url=https://aiinfra.pkgs.visualstudio.com/PublicPackages/_packaging/ort-cuda-12-nightly/pypi/simple/\n",
        "  !sudo apt install aria2\n",
        "  %cd /content\n",
        "  !aria2c -q -o {c} {d} --check-certificate --continue\n",
        "  clear_output()\n",
        "  import Gui.Notebook\n",
        "  Gui.Notebook.Run(params)\n",
        "else: print(\"\\n****  You have denied access to your Drive !  ****\\n\")"
      ]
    }
  ],
  "metadata": {
    "colab": {
      "private_outputs": true,
      "provenance": [],
      "gpuType": "T4",
      "include_colab_link": true
    },
    "kernelspec": {
      "display_name": "Python 3",
      "name": "python3"
    },
    "language_info": {
      "codemirror_mode": {
        "name": "ipython",
        "version": 3
      },
      "file_extension": ".py",
      "mimetype": "text/x-python",
      "name": "python",
      "nbconvert_exporter": "python",
      "pygments_lexer": "ipython3",
      "version": "3.11.6"
    },
    "accelerator": "GPU"
  },
  "nbformat": 4,
  "nbformat_minor": 0
}